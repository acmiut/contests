{
 "cells": [
  {
   "cell_type": "code",
   "execution_count": 45,
   "metadata": {},
   "outputs": [],
   "source": [
    "rand = np.random.randint(100000000, 1000000000, 10)\n",
    "rand = rand.tolist()"
   ]
  },
  {
   "cell_type": "code",
   "execution_count": 46,
   "metadata": {},
   "outputs": [],
   "source": [
    "str1 = \"\"\n",
    "for i in rand:\n",
    "    str1 += str(i)\n",
    "    str1 += ' '\n",
    "#str5"
   ]
  },
  {
   "cell_type": "code",
   "execution_count": 47,
   "metadata": {},
   "outputs": [],
   "source": [
    "with open(\"../in_out/test.in\", \"w\") as text_file:\n",
    "    text_file.write(\"10 9\\n{}\\n\".format(str1))\n",
    "    for i in range(1, 10):\n",
    "        str1 = str(i) + ' ' + str(i + 1)\n",
    "        text_file.write(str1)\n",
    "        text_file.write(\"\\n\")"
   ]
  },
  {
   "cell_type": "markdown",
   "metadata": {},
   "source": [
    "test #4: 10^5, 0\n",
    "| 0 in\n"
   ]
  },
  {
   "cell_type": "code",
   "execution_count": 1,
   "metadata": {},
   "outputs": [],
   "source": [
    "str4 = \"0\"\n",
    "for i in range(100000 - 1):\n",
    "    str4 += ' 0'"
   ]
  },
  {
   "cell_type": "code",
   "execution_count": 2,
   "metadata": {},
   "outputs": [],
   "source": [
    "#str4\n",
    "with open(\"../in_out/4.in\", \"w\") as text_file:\n",
    "    text_file.write(\"100000 0\\n{}\".format(str4))"
   ]
  },
  {
   "cell_type": "markdown",
   "metadata": {},
   "source": [
    "test #5: 10^5, 99997 | rand"
   ]
  },
  {
   "cell_type": "code",
   "execution_count": 10,
   "metadata": {},
   "outputs": [],
   "source": [
    "import random\n",
    "import numpy as np"
   ]
  },
  {
   "cell_type": "code",
   "execution_count": 4,
   "metadata": {},
   "outputs": [],
   "source": [
    "rand = np.random.randint(100000000, 1000000000, 100000)\n",
    "rand = rand.tolist()"
   ]
  },
  {
   "cell_type": "code",
   "execution_count": 5,
   "metadata": {},
   "outputs": [],
   "source": [
    "str5 = \"\"\n",
    "cnt = 0\n",
    "for i in rand:\n",
    "    if cnt:\n",
    "        str5 += ' '\n",
    "    str5 += str(i)\n",
    "    cnt += 1\n",
    "#str5"
   ]
  },
  {
   "cell_type": "code",
   "execution_count": 8,
   "metadata": {},
   "outputs": [
    {
     "data": {
      "text/plain": [
       "99997"
      ]
     },
     "execution_count": 8,
     "metadata": {},
     "output_type": "execute_result"
    }
   ],
   "source": [
    "#str5\n",
    "cnt = 0\n",
    "with open(\"../in_out/5.in\", \"w\") as text_file:\n",
    "    text_file.write(\"100000 99997\\n{}\\n\".format(str5))\n",
    "    for i in range(1, 100000//4):\n",
    "        str1 = str(i) + ' ' + str(i + 1)\n",
    "        text_file.write(str1)\n",
    "        text_file.write(\"\\n\")\n",
    "        cnt += 1\n",
    "    for i in range(100000//4, 100000//2):\n",
    "        str1 = str(i) + ' ' + str(i + 1)\n",
    "        text_file.write(str1)\n",
    "        text_file.write(\"\\n\")\n",
    "        cnt += 1\n",
    "    for i in range(100000//2 + 1, 300000//4):\n",
    "        str1 = str(i) + ' ' + str(i + 1)\n",
    "        text_file.write(str1)\n",
    "        text_file.write(\"\\n\")\n",
    "        cnt += 1\n",
    "    for i in range(300000//4 + 1, 100000):\n",
    "        str1 = str(i) + ' ' + str(i + 1)\n",
    "        text_file.write(str1)\n",
    "        text_file.write(\"\\n\")\n",
    "        cnt += 1\n",
    "cnt"
   ]
  },
  {
   "cell_type": "markdown",
   "metadata": {},
   "source": [
    "test #6: 10^5, 99999 | 0"
   ]
  },
  {
   "cell_type": "code",
   "execution_count": 9,
   "metadata": {},
   "outputs": [],
   "source": [
    "str6 = \"0\"\n",
    "for i in range(100000 - 1):\n",
    "    str6 += ' 0'"
   ]
  },
  {
   "cell_type": "code",
   "execution_count": 11,
   "metadata": {},
   "outputs": [],
   "source": [
    "#str6\n",
    "with open(\"../in_out/6.in\", \"w\") as text_file:\n",
    "    text_file.write(\"100000 99997\\n{}\\n\".format(str6))\n",
    "    for i in range(1, 100000//4):\n",
    "        str1 = str(i) + ' ' + str(i + 1)\n",
    "        text_file.write(str1)\n",
    "        text_file.write(\"\\n\")\n",
    "    for i in range(100000//4, 100000//2):\n",
    "        str1 = str(i) + ' ' + str(i + 1)\n",
    "        text_file.write(str1)\n",
    "        text_file.write(\"\\n\")\n",
    "    for i in range(100000//2 + 1, 300000//4):\n",
    "        str1 = str(i) + ' ' + str(i + 1)\n",
    "        text_file.write(str1)\n",
    "        text_file.write(\"\\n\")\n",
    "    for i in range(300000//4 + 1, 100000):\n",
    "        str1 = str(i) + ' ' + str(i + 1)\n",
    "        text_file.write(str1)\n",
    "        text_file.write(\"\\n\")"
   ]
  },
  {
   "cell_type": "markdown",
   "metadata": {},
   "source": [
    "test #7: 10^5, 0 | 10^9"
   ]
  },
  {
   "cell_type": "code",
   "execution_count": 12,
   "metadata": {},
   "outputs": [],
   "source": [
    "str7 = \"1000000000\"\n",
    "for i in range(100000 - 1):\n",
    "    str7 += ' 1000000000'"
   ]
  },
  {
   "cell_type": "code",
   "execution_count": 13,
   "metadata": {},
   "outputs": [],
   "source": [
    "#str7\n",
    "with open(\"../in_out/7.in\", \"w\") as text_file:\n",
    "    text_file.write(\"100000 0\\n{}\".format(str7))"
   ]
  },
  {
   "cell_type": "markdown",
   "metadata": {},
   "source": [
    "test #8: 10^5, 99997 | 10^9 "
   ]
  },
  {
   "cell_type": "code",
   "execution_count": 19,
   "metadata": {},
   "outputs": [],
   "source": [
    "str8 = \"1000000000\"\n",
    "for i in range(100000 - 1):\n",
    "    str8 += ' 1000000000'"
   ]
  },
  {
   "cell_type": "code",
   "execution_count": 20,
   "metadata": {},
   "outputs": [],
   "source": [
    "with open(\"../in_out/8.in\", \"w\") as text_file:\n",
    "    text_file.write(\"100000 99997\\n{}\\n\".format(str8))\n",
    "    for i in range(1, 100000//4):\n",
    "        str1 = str(i) + ' ' + str(i + 1)\n",
    "        text_file.write(str1)\n",
    "        text_file.write(\"\\n\")\n",
    "    for i in range(100000//4, 100000//2):\n",
    "        str1 = str(i) + ' ' + str(i + 1)\n",
    "        text_file.write(str1)\n",
    "        text_file.write(\"\\n\")\n",
    "    for i in range(100000//2 + 1, 300000//4):\n",
    "        str1 = str(i) + ' ' + str(i + 1)\n",
    "        text_file.write(str1)\n",
    "        text_file.write(\"\\n\")\n",
    "    for i in range(300000//4 + 1, 100000):\n",
    "        str1 = str(i) + ' ' + str(i + 1)\n",
    "        text_file.write(str1)\n",
    "        text_file.write(\"\\n\")"
   ]
  },
  {
   "cell_type": "markdown",
   "metadata": {},
   "source": [
    "test #9: 10^5, 99997 | random 0 , 1"
   ]
  },
  {
   "cell_type": "code",
   "execution_count": 16,
   "metadata": {},
   "outputs": [],
   "source": [
    "rand = np.random.randint(0, 2, 100000)\n",
    "rand = rand.tolist()"
   ]
  },
  {
   "cell_type": "code",
   "execution_count": 17,
   "metadata": {},
   "outputs": [],
   "source": [
    "str9 = \"\"\n",
    "cnt = 0\n",
    "for i in rand:\n",
    "    if cnt:\n",
    "        str9 += ' '  \n",
    "    str9 += str(i)\n",
    "    cnt += 1"
   ]
  },
  {
   "cell_type": "code",
   "execution_count": 18,
   "metadata": {},
   "outputs": [],
   "source": [
    "with open(\"../in_out/9.in\", \"w\") as text_file:\n",
    "    text_file.write(\"100000 99997\\n{}\\n\".format(str9))\n",
    "    for i in range(1, 100000//4):\n",
    "        str1 = str(i) + ' ' + str(i + 1)\n",
    "        text_file.write(str1)\n",
    "        text_file.write(\"\\n\")\n",
    "    for i in range(100000//4, 100000//2):\n",
    "        str1 = str(i) + ' ' + str(i + 1)\n",
    "        text_file.write(str1)\n",
    "        text_file.write(\"\\n\")\n",
    "    for i in range(100000//2 + 1, 300000//4):\n",
    "        str1 = str(i) + ' ' + str(i + 1)\n",
    "        text_file.write(str1)\n",
    "        text_file.write(\"\\n\")\n",
    "    for i in range(300000//4 + 1, 100000):\n",
    "        str1 = str(i) + ' ' + str(i + 1)\n",
    "        text_file.write(str1)\n",
    "        text_file.write(\"\\n\")"
   ]
  },
  {
   "cell_type": "markdown",
   "metadata": {},
   "source": [
    "test #10: 10^5, 99997 | 999999999"
   ]
  },
  {
   "cell_type": "code",
   "execution_count": 21,
   "metadata": {},
   "outputs": [],
   "source": [
    "str10 = \"999999999\"\n",
    "for i in range(100000 - 1):\n",
    "    str10 += ' 999999999'"
   ]
  },
  {
   "cell_type": "code",
   "execution_count": 27,
   "metadata": {},
   "outputs": [],
   "source": [
    "with open(\"../in_out/10.in\", \"w\") as text_file:\n",
    "    text_file.write(\"100000 99997\\n{}\\n\".format(str10))\n",
    "    for i in range(1, 100000//4):\n",
    "        str1 = str(i) + ' ' + str(i + 1)\n",
    "        text_file.write(str1)\n",
    "        text_file.write(\"\\n\")\n",
    "    for i in range(100000//4, 100000//2):\n",
    "        str1 = str(i) + ' ' + str(i + 1)\n",
    "        text_file.write(str1)\n",
    "        text_file.write(\"\\n\")\n",
    "    for i in range(100000//2 + 1, 300000//4):\n",
    "        str1 = str(i) + ' ' + str(i + 1)\n",
    "        text_file.write(str1)\n",
    "        text_file.write(\"\\n\")\n",
    "    for i in range(300000//4 + 1, 100000):\n",
    "        str1 = str(i) + ' ' + str(i + 1)\n",
    "        text_file.write(str1)\n",
    "        text_file.write(\"\\n\")"
   ]
  },
  {
   "cell_type": "markdown",
   "metadata": {},
   "source": [
    "test #11: 10^5, 10^5 | random 999999999, 10 ^ 9"
   ]
  },
  {
   "cell_type": "code",
   "execution_count": 25,
   "metadata": {},
   "outputs": [],
   "source": [
    "rand = np.random.randint(999999999, 1000000001, 100000)\n",
    "rand = rand.tolist()"
   ]
  },
  {
   "cell_type": "code",
   "execution_count": 26,
   "metadata": {},
   "outputs": [],
   "source": [
    "str11 = \"\"\n",
    "cnt = 0\n",
    "for i in rand:\n",
    "    if cnt:\n",
    "        str11 += ' ' \n",
    "    str11 += str(i)\n",
    "    cnt += 1"
   ]
  },
  {
   "cell_type": "code",
   "execution_count": 28,
   "metadata": {},
   "outputs": [],
   "source": [
    "with open(\"../in_out/11.in\", \"w\") as text_file:\n",
    "    text_file.write(\"100000 99997\\n{}\\n\".format(str11))\n",
    "    for i in range(1, 100000//4):\n",
    "        str1 = str(i) + ' ' + str(i + 1)\n",
    "        text_file.write(str1)\n",
    "        text_file.write(\"\\n\")\n",
    "    for i in range(100000//4, 100000//2):\n",
    "        str1 = str(i) + ' ' + str(i + 1)\n",
    "        text_file.write(str1)\n",
    "        text_file.write(\"\\n\")\n",
    "    for i in range(100000//2 + 1, 300000//4):\n",
    "        str1 = str(i) + ' ' + str(i + 1)\n",
    "        text_file.write(str1)\n",
    "        text_file.write(\"\\n\")\n",
    "    for i in range(300000//4 + 1, 100000):\n",
    "        str1 = str(i) + ' ' + str(i + 1)\n",
    "        text_file.write(str1)\n",
    "        text_file.write(\"\\n\")"
   ]
  },
  {
   "cell_type": "markdown",
   "metadata": {},
   "source": [
    "test #12: 10^5, 44447 | rand"
   ]
  },
  {
   "cell_type": "code",
   "execution_count": 30,
   "metadata": {},
   "outputs": [],
   "source": [
    "rand = np.random.randint(100000000, 1000000000, 100000)\n",
    "rand = rand.tolist()"
   ]
  },
  {
   "cell_type": "code",
   "execution_count": 31,
   "metadata": {},
   "outputs": [],
   "source": [
    "str12 = \"\"\n",
    "cnt = 0\n",
    "for i in rand:\n",
    "    if cnt:\n",
    "        str12 += ' ' \n",
    "    str12 += str(i)\n",
    "    cnt += 1"
   ]
  },
  {
   "cell_type": "code",
   "execution_count": 33,
   "metadata": {},
   "outputs": [],
   "source": [
    "#str12\n",
    "with open(\"../in_out/12.in\", \"w\") as text_file:\n",
    "    text_file.write(\"100000 44447\\n{}\\n\".format(str12))\n",
    "    for i in range(1, 50000//4):\n",
    "        str1 = str(i) + ' ' + str(i + 1)\n",
    "        text_file.write(str1)\n",
    "        text_file.write(\"\\n\")\n",
    "    for i in range(50000//4, 50000//2):\n",
    "        str1 = str(i) + ' ' + str(i + 1)\n",
    "        text_file.write(str1)\n",
    "        text_file.write(\"\\n\")\n",
    "    for i in range(50000//2 + 1, 150000//4):\n",
    "        str1 = str(i) + ' ' + str(i + 1)\n",
    "        text_file.write(str1)\n",
    "        text_file.write(\"\\n\")\n",
    "    for i in range(150000//4 + 1, 50000):\n",
    "        str1 = str(i) + ' ' + str(i + 1)\n",
    "        text_file.write(str1)\n",
    "        text_file.write(\"\\n\")"
   ]
  },
  {
   "cell_type": "markdown",
   "metadata": {},
   "source": [
    "test #13: random(1, 10 ^ 5), random(1, n) | rand, random edge"
   ]
  },
  {
   "cell_type": "code",
   "execution_count": 23,
   "metadata": {},
   "outputs": [],
   "source": [
    "n = np.random.randint(1, 100001, 1)[0]\n",
    "m = np.random.randint(1, n, 1)[0]\n",
    "rand = np.random.randint(100000000, 1000000000, n)\n",
    "rand = rand.tolist()"
   ]
  },
  {
   "cell_type": "code",
   "execution_count": 24,
   "metadata": {},
   "outputs": [
    {
     "data": {
      "text/plain": [
       "(88680, 3771)"
      ]
     },
     "execution_count": 24,
     "metadata": {},
     "output_type": "execute_result"
    }
   ],
   "source": [
    "n, m"
   ]
  },
  {
   "cell_type": "code",
   "execution_count": 25,
   "metadata": {},
   "outputs": [],
   "source": [
    "str13 = \"\"\n",
    "cnt = 0\n",
    "for i in rand:\n",
    "    if cnt:\n",
    "        str13 += ' ' \n",
    "    str13 += str(i)\n",
    "    cnt += 1"
   ]
  },
  {
   "cell_type": "code",
   "execution_count": 26,
   "metadata": {},
   "outputs": [],
   "source": [
    "seen = {}"
   ]
  },
  {
   "cell_type": "code",
   "execution_count": 27,
   "metadata": {},
   "outputs": [],
   "source": [
    "num = str(n) + ' ' + str(m)\n",
    "with open(\"../in_out/13.in\", \"w\") as text_file:\n",
    "    text_file.write(\"{}\\n{}\\n\".format(num, str13))\n",
    "    for i in range(m):\n",
    "        while True:\n",
    "            node1 = np.random.randint(1, n + 1, 1)[0]\n",
    "            node2 = np.random.randint(1, n + 1, 1)[0]\n",
    "            if (node1, node2) not in seen.keys() and (node2, node1) not in seen.keys():\n",
    "                seen[(node1, node2)] = True\n",
    "                seen[(node2, node1)] = True\n",
    "                break\n",
    "                \n",
    "        str1 = str(node1) + ' ' + str(node2)\n",
    "        text_file.write(str1)\n",
    "        text_file.write(\"\\n\")"
   ]
  },
  {
   "cell_type": "markdown",
   "metadata": {},
   "source": [
    "test #14: random(1, 10 ^ 4), random(1, n) | rand, random edge"
   ]
  },
  {
   "cell_type": "code",
   "execution_count": 28,
   "metadata": {},
   "outputs": [],
   "source": [
    "n = np.random.randint(1, 10001, 1)[0]\n",
    "m = np.random.randint(1, n, 1)[0]\n",
    "rand = np.random.randint(100000000, 1000000000, n)\n",
    "rand = rand.tolist()"
   ]
  },
  {
   "cell_type": "code",
   "execution_count": 29,
   "metadata": {},
   "outputs": [
    {
     "data": {
      "text/plain": [
       "(9713, 2085)"
      ]
     },
     "execution_count": 29,
     "metadata": {},
     "output_type": "execute_result"
    }
   ],
   "source": [
    "n, m"
   ]
  },
  {
   "cell_type": "code",
   "execution_count": 31,
   "metadata": {},
   "outputs": [],
   "source": [
    "str14 = \"\"\n",
    "cnt = 0\n",
    "for i in rand:\n",
    "    if cnt:\n",
    "        str14 += ' ' \n",
    "    str14 += str(i)\n",
    "    cnt += 1\n",
    "seen = {}"
   ]
  },
  {
   "cell_type": "code",
   "execution_count": 32,
   "metadata": {},
   "outputs": [],
   "source": [
    "num = str(n) + ' ' + str(m)\n",
    "with open(\"../in_out/14.in\", \"w\") as text_file:\n",
    "    text_file.write(\"{}\\n{}\\n\".format(num, str14))\n",
    "    for i in range(m):\n",
    "        while True:\n",
    "            node1 = np.random.randint(1, n + 1, 1)[0]\n",
    "            node2 = np.random.randint(1, n + 1, 1)[0]\n",
    "            if (node1, node2) not in seen.keys() and (node2, node1) not in seen.keys():\n",
    "                seen[(node1, node2)] = True\n",
    "                seen[(node2, node1)] = True\n",
    "                break\n",
    "                \n",
    "        str1 = str(node1) + ' ' + str(node2)\n",
    "        text_file.write(str1)\n",
    "        text_file.write(\"\\n\")"
   ]
  },
  {
   "cell_type": "markdown",
   "metadata": {},
   "source": [
    "test #15: random(1, 10 ^ 3), random(1, n) | rand, random edge"
   ]
  },
  {
   "cell_type": "code",
   "execution_count": 34,
   "metadata": {},
   "outputs": [],
   "source": [
    "n = np.random.randint(1, 1001, 1)[0]\n",
    "m = np.random.randint(1, n, 1)[0]\n",
    "rand = np.random.randint(100000000, 1000000000, n)\n",
    "rand = rand.tolist()"
   ]
  },
  {
   "cell_type": "code",
   "execution_count": 35,
   "metadata": {},
   "outputs": [
    {
     "data": {
      "text/plain": [
       "(190, 11)"
      ]
     },
     "execution_count": 35,
     "metadata": {},
     "output_type": "execute_result"
    }
   ],
   "source": [
    "n, m"
   ]
  },
  {
   "cell_type": "code",
   "execution_count": 36,
   "metadata": {},
   "outputs": [],
   "source": [
    "str15 = \"\"\n",
    "cnt = 0\n",
    "for i in rand:\n",
    "    if cnt:\n",
    "        str15 += ' ' \n",
    "    str15 += str(i)\n",
    "    cnt += 1\n",
    "seen = {}"
   ]
  },
  {
   "cell_type": "code",
   "execution_count": 37,
   "metadata": {},
   "outputs": [],
   "source": [
    "num = str(n) + ' ' + str(m)\n",
    "with open(\"../in_out/15.in\", \"w\") as text_file:\n",
    "    text_file.write(\"{}\\n{}\\n\".format(num, str15))\n",
    "    for i in range(m):\n",
    "        while True:\n",
    "            node1 = np.random.randint(1, n + 1, 1)[0]\n",
    "            node2 = np.random.randint(1, n + 1, 1)[0]\n",
    "            if (node1, node2) not in seen.keys() and (node2, node1) not in seen.keys():\n",
    "                seen[(node1, node2)] = True\n",
    "                seen[(node2, node1)] = True\n",
    "                break\n",
    "                \n",
    "        str1 = str(node1) + ' ' + str(node2)\n",
    "        text_file.write(str1)\n",
    "        text_file.write(\"\\n\")"
   ]
  },
  {
   "cell_type": "markdown",
   "metadata": {},
   "source": [
    "test #16: random(1, 10 ^ 2), random(1, n) | rand, random edge"
   ]
  },
  {
   "cell_type": "code",
   "execution_count": 38,
   "metadata": {},
   "outputs": [],
   "source": [
    "n = np.random.randint(1, 101, 1)[0]\n",
    "m = np.random.randint(1, n, 1)[0]\n",
    "rand = np.random.randint(100000000, 1000000000, n)\n",
    "rand = rand.tolist()"
   ]
  },
  {
   "cell_type": "code",
   "execution_count": 39,
   "metadata": {},
   "outputs": [],
   "source": [
    "str16 = \"\"\n",
    "cnt = 0\n",
    "for i in rand:\n",
    "    if cnt:\n",
    "        str16 += ' ' \n",
    "    str16 += str(i)\n",
    "    cnt += 1\n",
    "seen = {}"
   ]
  },
  {
   "cell_type": "code",
   "execution_count": 40,
   "metadata": {},
   "outputs": [],
   "source": [
    "num = str(n) + ' ' + str(m)\n",
    "with open(\"../in_out/16.in\", \"w\") as text_file:\n",
    "    text_file.write(\"{}\\n{}\\n\".format(num, str16))\n",
    "    for i in range(m):\n",
    "        while True:\n",
    "            node1 = np.random.randint(1, n + 1, 1)[0]\n",
    "            node2 = np.random.randint(1, n + 1, 1)[0]\n",
    "            if (node1, node2) not in seen.keys() and (node2, node1) not in seen.keys():\n",
    "                seen[(node1, node2)] = True\n",
    "                seen[(node2, node1)] = True\n",
    "                break\n",
    "                \n",
    "        str1 = str(node1) + ' ' + str(node2)\n",
    "        text_file.write(str1)\n",
    "        text_file.write(\"\\n\")"
   ]
  },
  {
   "cell_type": "code",
   "execution_count": 41,
   "metadata": {},
   "outputs": [
    {
     "data": {
      "text/plain": [
       "(64, 56)"
      ]
     },
     "execution_count": 41,
     "metadata": {},
     "output_type": "execute_result"
    }
   ],
   "source": [
    "n, m"
   ]
  },
  {
   "cell_type": "markdown",
   "metadata": {},
   "source": [
    "test #17: random(1, 10), random(1, n) | rand, random edge"
   ]
  },
  {
   "cell_type": "code",
   "execution_count": 42,
   "metadata": {},
   "outputs": [],
   "source": [
    "n = np.random.randint(1, 11, 1)[0]\n",
    "m = np.random.randint(1, n, 1)[0]\n",
    "rand = np.random.randint(100000000, 1000000000, n)\n",
    "rand = rand.tolist()"
   ]
  },
  {
   "cell_type": "code",
   "execution_count": 43,
   "metadata": {},
   "outputs": [],
   "source": [
    "str17 = \"\"\n",
    "cnt = 0\n",
    "for i in rand:\n",
    "    if cnt:\n",
    "        str17 += ' ' \n",
    "    str17 += str(i)\n",
    "    cnt += 1\n",
    "seen = {}"
   ]
  },
  {
   "cell_type": "code",
   "execution_count": 44,
   "metadata": {},
   "outputs": [],
   "source": [
    "num = str(n) + ' ' + str(m)\n",
    "with open(\"../in_out/17.in\", \"w\") as text_file:\n",
    "    text_file.write(\"{}\\n{}\\n\".format(num, str17))\n",
    "    for i in range(m):\n",
    "        while True:\n",
    "            node1 = np.random.randint(1, n + 1, 1)[0]\n",
    "            node2 = np.random.randint(1, n + 1, 1)[0]\n",
    "            if (node1, node2) not in seen.keys() and (node2, node1) not in seen.keys():\n",
    "                seen[(node1, node2)] = True\n",
    "                seen[(node2, node1)] = True\n",
    "                break\n",
    "                \n",
    "        str1 = str(node1) + ' ' + str(node2)\n",
    "        text_file.write(str1)\n",
    "        text_file.write(\"\\n\")"
   ]
  },
  {
   "cell_type": "code",
   "execution_count": 45,
   "metadata": {},
   "outputs": [
    {
     "data": {
      "text/plain": [
       "(3, 1)"
      ]
     },
     "execution_count": 45,
     "metadata": {},
     "output_type": "execute_result"
    }
   ],
   "source": [
    "n, m"
   ]
  },
  {
   "cell_type": "code",
   "execution_count": null,
   "metadata": {},
   "outputs": [],
   "source": []
  }
 ],
 "metadata": {
  "kernelspec": {
   "display_name": "Python 3",
   "language": "python",
   "name": "python3"
  },
  "language_info": {
   "codemirror_mode": {
    "name": "ipython",
    "version": 3
   },
   "file_extension": ".py",
   "mimetype": "text/x-python",
   "name": "python",
   "nbconvert_exporter": "python",
   "pygments_lexer": "ipython3",
   "version": "3.6.7"
  }
 },
 "nbformat": 4,
 "nbformat_minor": 2
}
